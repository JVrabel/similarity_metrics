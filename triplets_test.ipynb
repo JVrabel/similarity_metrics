{
 "cells": [
  {
   "cell_type": "code",
   "execution_count": 42,
   "metadata": {},
   "outputs": [],
   "source": [
    "import numpy as np\n",
    "def prepare_triplets(data, labels):\n",
    "    labels = np.array(labels)\n",
    "    data = np.array(data)\n",
    "    triplets = []\n",
    "    label_to_indices = {}\n",
    "    for i, label in enumerate(labels):\n",
    "        if label not in label_to_indices:\n",
    "            label_to_indices[label] = []\n",
    "        label_to_indices[label].append(i)\n",
    "    return label_to_indices\n",
    "for i in range(len(data)):\n",
    "    anchor = data[i]\n",
    "    anchor_label = labels[i]\n",
    "    positive_index = i\n",
    "    while positive_index == i:\n",
    "        positive_index = label_to_indices[anchor_label][torch.randint(len(label_to_indices[anchor_label]), size=(1,)).item()]\n",
    "    positive = data[positive_index]\n",
    "    \n",
    "    negative_label = anchor_label\n",
    "    while negative_label == anchor_label:\n",
    "        negative_label = labels[torch.randint(len(labels), size=(1,)).item()]\n",
    "    negative_index = label_to_indices[negative_label][torch.randint(len(label_to_indices[negative_label]), size=(1,)).item()]\n",
    "    negative = data[negative_index]\n",
    "    \n",
    "    triplets.append((anchor, positive, negative))\n",
    "\n",
    "    return triplets"
   ]
  },
  {
   "cell_type": "code",
   "execution_count": 44,
   "metadata": {},
   "outputs": [
    {
     "data": {
      "text/plain": [
       "{1: [0, 1, 3], 3: [2], 0: [4]}"
      ]
     },
     "execution_count": 44,
     "metadata": {},
     "output_type": "execute_result"
    }
   ],
   "source": [
    "data = [[1, 2, 3], [4, 5, 6], [7, 8, 9], [10, 11, 12], [13, 14, 15]]\n",
    "labels = [1, 1, 3, 1, 0]\n",
    "\n",
    "# run the function and check the output\n",
    "indices = prepare_triplets(data, labels)\n",
    "indices\n"
   ]
  },
  {
   "cell_type": "code",
   "execution_count": 57,
   "metadata": {},
   "outputs": [
    {
     "ename": "TypeError",
     "evalue": "randint() received an invalid combination of arguments - got (size=tuple, ), but expected one of:\n * (int high, tuple of ints size, *, torch.Generator generator, Tensor out, torch.dtype dtype, torch.layout layout, torch.device device, bool pin_memory, bool requires_grad)\n * (int high, tuple of ints size, *, Tensor out, torch.dtype dtype, torch.layout layout, torch.device device, bool pin_memory, bool requires_grad)\n * (int low, int high, tuple of ints size, *, torch.Generator generator, Tensor out, torch.dtype dtype, torch.layout layout, torch.device device, bool pin_memory, bool requires_grad)\n * (int low, int high, tuple of ints size, *, Tensor out, torch.dtype dtype, torch.layout layout, torch.device device, bool pin_memory, bool requires_grad)\n",
     "output_type": "error",
     "traceback": [
      "\u001b[1;31m---------------------------------------------------------------------------\u001b[0m",
      "\u001b[1;31mTypeError\u001b[0m                                 Traceback (most recent call last)",
      "Cell \u001b[1;32mIn[57], line 2\u001b[0m\n\u001b[0;32m      1\u001b[0m \u001b[39mimport\u001b[39;00m \u001b[39mtorch\u001b[39;00m\n\u001b[1;32m----> 2\u001b[0m torch\u001b[39m.\u001b[39;49mrandint( size\u001b[39m=\u001b[39;49m(\u001b[39m1\u001b[39;49m,))\u001b[39m.\u001b[39mitem()\n",
      "\u001b[1;31mTypeError\u001b[0m: randint() received an invalid combination of arguments - got (size=tuple, ), but expected one of:\n * (int high, tuple of ints size, *, torch.Generator generator, Tensor out, torch.dtype dtype, torch.layout layout, torch.device device, bool pin_memory, bool requires_grad)\n * (int high, tuple of ints size, *, Tensor out, torch.dtype dtype, torch.layout layout, torch.device device, bool pin_memory, bool requires_grad)\n * (int low, int high, tuple of ints size, *, torch.Generator generator, Tensor out, torch.dtype dtype, torch.layout layout, torch.device device, bool pin_memory, bool requires_grad)\n * (int low, int high, tuple of ints size, *, Tensor out, torch.dtype dtype, torch.layout layout, torch.device device, bool pin_memory, bool requires_grad)\n"
     ]
    }
   ],
   "source": [
    "import torch\n",
    "torch.randint(len(indices[1]), size=(1,)).item()"
   ]
  }
 ],
 "metadata": {
  "kernelspec": {
   "display_name": "myenv",
   "language": "python",
   "name": "python3"
  },
  "language_info": {
   "codemirror_mode": {
    "name": "ipython",
    "version": 3
   },
   "file_extension": ".py",
   "mimetype": "text/x-python",
   "name": "python",
   "nbconvert_exporter": "python",
   "pygments_lexer": "ipython3",
   "version": "3.10.9"
  },
  "orig_nbformat": 4
 },
 "nbformat": 4,
 "nbformat_minor": 2
}
