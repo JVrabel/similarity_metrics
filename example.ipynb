{
 "cells": [
  {
   "cell_type": "code",
   "execution_count": 9,
   "metadata": {},
   "outputs": [
    {
     "ename": "FileNotFoundError",
     "evalue": "[WinError 2] The system cannot find the file specified: '/similarity_metrics/'",
     "output_type": "error",
     "traceback": [
      "\u001b[1;31m---------------------------------------------------------------------------\u001b[0m",
      "\u001b[1;31mFileNotFoundError\u001b[0m                         Traceback (most recent call last)",
      "\u001b[1;32mc:\\Users\\kubov\\Documents\\git_projects\\similarity_metrics\\example.ipynb Cell 1\u001b[0m in \u001b[0;36m<cell line: 7>\u001b[1;34m()\u001b[0m\n\u001b[0;32m      <a href='vscode-notebook-cell:/c%3A/Users/kubov/Documents/git_projects/similarity_metrics/example.ipynb#W0sZmlsZQ%3D%3D?line=0'>1</a>\u001b[0m \u001b[39m# !pip install h5py\u001b[39;00m\n\u001b[0;32m      <a href='vscode-notebook-cell:/c%3A/Users/kubov/Documents/git_projects/similarity_metrics/example.ipynb#W0sZmlsZQ%3D%3D?line=1'>2</a>\u001b[0m \u001b[39m#!git clone https://github.com/JVrabel/similarity_metrics.git\u001b[39;00m\n\u001b[0;32m      <a href='vscode-notebook-cell:/c%3A/Users/kubov/Documents/git_projects/similarity_metrics/example.ipynb#W0sZmlsZQ%3D%3D?line=4'>5</a>\u001b[0m \u001b[39mimport\u001b[39;00m \u001b[39mos\u001b[39;00m\n\u001b[1;32m----> <a href='vscode-notebook-cell:/c%3A/Users/kubov/Documents/git_projects/similarity_metrics/example.ipynb#W0sZmlsZQ%3D%3D?line=6'>7</a>\u001b[0m os\u001b[39m.\u001b[39;49mchdir(\u001b[39m'\u001b[39;49m\u001b[39m/similarity_metrics/\u001b[39;49m\u001b[39m'\u001b[39;49m)\n",
      "\u001b[1;31mFileNotFoundError\u001b[0m: [WinError 2] The system cannot find the file specified: '/similarity_metrics/'"
     ]
    }
   ],
   "source": [
    "# !pip install h5py\n",
    "#!git clone https://github.com/JVrabel/similarity_metrics.git\n",
    "\n",
    "\n",
    "# import os\n",
    "\n",
    "# os.chdir('/content/similarity_metrics/')\n",
    "\n"
   ]
  },
  {
   "cell_type": "code",
   "execution_count": 12,
   "metadata": {},
   "outputs": [],
   "source": [
    "\n",
    "import numpy as np\n",
    "import pandas as pd\n",
    "import h5py\n",
    "import matplotlib.pyplot as plt"
   ]
  },
  {
   "attachments": {},
   "cell_type": "markdown",
   "metadata": {},
   "source": [
    "# Load data"
   ]
  },
  {
   "cell_type": "code",
   "execution_count": 1,
   "metadata": {},
   "outputs": [
    {
     "name": "stderr",
     "output_type": "stream",
     "text": [
      "<frozen importlib._bootstrap>:228: RuntimeWarning: numpy.ufunc size changed, may indicate binary incompatibility. Expected 216 from C header, got 232 from PyObject\n"
     ]
    }
   ],
   "source": [
    "from src.load_libs_data import load_h5_data\n",
    "\n",
    "spectra, metadata = load_h5_data('datasets/chemcam_extended2015_v_a.h5')\n",
    "wavelengths = spectra.columns"
   ]
  },
  {
   "cell_type": "code",
   "execution_count": 52,
   "metadata": {},
   "outputs": [],
   "source": [
    "ground_truth = metadata.loc[:,'SiO2':'K2O']\n",
    "ground_truth = ground_truth.drop(['FeT', 'FeO', 'Fe2O3'] , axis = 1)\n",
    "ground_truth = ground_truth.drop(ground_truth.columns[[3]], axis=1)"
   ]
  },
  {
   "cell_type": "code",
   "execution_count": 53,
   "metadata": {},
   "outputs": [
    {
     "data": {
      "text/plain": [
       "[<matplotlib.lines.Line2D at 0x129baed6df0>]"
      ]
     },
     "execution_count": 53,
     "metadata": {},
     "output_type": "execute_result"
    },
    {
     "data": {
      "image/png": "[encoded data removed]",
      "text/plain": [
       "<Figure size 432x288 with 1 Axes>"
      ]
     },
     "metadata": {
      "needs_background": "light"
     },
     "output_type": "display_data"
    }
   ],
   "source": [
    "x = wavelengths\n",
    "differences = [x[i+1]-x[i] for i in range(len(x)-1)]\n",
    "\n",
    "unique_differences = list(set(differences))\n",
    "wavelengths\n",
    "plt.plot(differences)"
   ]
  },
  {
   "cell_type": "code",
   "execution_count": 54,
   "metadata": {},
   "outputs": [
    {
     "data": {
      "text/plain": [
       "(40000,)"
      ]
     },
     "execution_count": 54,
     "metadata": {},
     "output_type": "execute_result"
    }
   ],
   "source": [
    "ech_grid = np.arange(200.00, 1000.00, 0.02)\n",
    "ech_grid.shape"
   ]
  },
  {
   "cell_type": "code",
   "execution_count": 55,
   "metadata": {},
   "outputs": [],
   "source": [
    "from scipy.interpolate import interp1d\n",
    "\n",
    "ech_grid = np.arange(200.00, 1000.00, 0.02)\n",
    "ech_grid.shape\n",
    "\n",
    "\n",
    "mask_bound = ~((ech_grid >= wavelengths.min()) & (ech_grid <= wavelengths.max()))\n",
    "mask_1gap = (ech_grid >= 339) & (ech_grid <= 383)\n",
    "mask_2gap = (ech_grid >= 468) & (ech_grid <= 474)\n",
    "mask = mask_bound | mask_1gap | mask_2gap\n",
    "\n",
    "# mask_plot = 1*mask \n",
    "# plt.plot(mask_plot)\n",
    "ech_grid = ech_grid[~mask]\n",
    "\n",
    "# interpolate the signal to the new time grid using linear interpolation\n",
    "f = interp1d(wavelengths, spectra, kind='linear')\n",
    "spectra_ech = f(ech_grid)"
   ]
  },
  {
   "cell_type": "code",
   "execution_count": null,
   "metadata": {},
   "outputs": [],
   "source": [
    "from src.visualization import plot_spectra\n",
    "\n",
    "names = ground_truth.index.values.tolist()\n",
    "plot_spectra(spectra_ech[:20,:], ech_grid)"
   ]
  },
  {
   "cell_type": "code",
   "execution_count": null,
   "metadata": {},
   "outputs": [],
   "source": [
    "from src.preprocess import efficiency_fcn, relu\n",
    "from src.visualization import plot_one_spectrum\n",
    "\n",
    "eff = efficiency_fcn(x = ech_grid, x0 = 250, A=1, k=0.008)\n",
    "eff = relu(eff)\n",
    "plot_one_spectrum(eff,ech_grid, title = \"efficiency\")"
   ]
  },
  {
   "cell_type": "code",
   "execution_count": null,
   "metadata": {},
   "outputs": [],
   "source": [
    "corrected_spectra_ech = eff*spectra_ech\n",
    "plot_spectra(corrected_spectra_ech[:20,:], ech_grid)"
   ]
  },
  {
   "attachments": {},
   "cell_type": "markdown",
   "metadata": {},
   "source": [
    "# K-means"
   ]
  },
  {
   "cell_type": "code",
   "execution_count": 59,
   "metadata": {},
   "outputs": [
    {
     "name": "stderr",
     "output_type": "stream",
     "text": [
      "c:\\ProgramData\\Anaconda3\\lib\\site-packages\\sklearn\\cluster\\_kmeans.py:1036: UserWarning:\n",
      "\n",
      "KMeans is known to have a memory leak on Windows with MKL, when there are less chunks than available threads. You can avoid it by setting the environment variable OMP_NUM_THREADS=8.\n",
      "\n"
     ]
    },
    {
     "data": {
      "image/png": "[encoded data removed]",
      "text/plain": [
       "<Figure size 432x288 with 1 Axes>"
      ]
     },
     "metadata": {
      "needs_background": "light"
     },
     "output_type": "display_data"
    }
   ],
   "source": [
    "import pandas as pd\n",
    "import plotly.express as px\n",
    "import plotly.graph_objs as go\n",
    "from sklearn.decomposition import PCA\n",
    "\n",
    "# Load data\n",
    "\n",
    "# Replace NaNs with zeros\n",
    "data = ground_truth.fillna(0)\n",
    "\n",
    "# Standardize data\n",
    "standardized_data = (data - data.mean()) / data.std()\n",
    "\n",
    "\n",
    "\n",
    "from sklearn.cluster import KMeans\n",
    "import matplotlib.pyplot as plt\n",
    "\n",
    "# Compute SSE for different values of k\n",
    "sse = []\n",
    "for k in range(1, 21):\n",
    "    kmeans = KMeans(n_clusters=k, random_state=42)\n",
    "    kmeans.fit(standardized_data)\n",
    "    sse.append(kmeans.inertia_)\n",
    "\n",
    "# Plot SSE vs. number of clusters\n",
    "plt.plot(range(1, 21), sse)\n",
    "plt.xlabel('Number of clusters')\n",
    "plt.ylabel('SSE')\n",
    "plt.show()"
   ]
  },
  {
   "attachments": {},
   "cell_type": "markdown",
   "metadata": {},
   "source": [
    "# PCA of composition"
   ]
  },
  {
   "cell_type": "code",
   "execution_count": null,
   "metadata": {},
   "outputs": [],
   "source": [
    "import pandas as pd\n",
    "import plotly.express as px\n",
    "import plotly.graph_objs as go\n",
    "from sklearn.decomposition import PCA\n",
    "\n",
    "# Load data\n",
    "\n",
    "# Replace NaNs with zeros\n",
    "data = ground_truth.fillna(0)\n",
    "\n",
    "# Standardize data\n",
    "standardized_data = (data - data.mean(axis = 0))/ data.std(axis = 0)\n",
    "\n",
    "\n",
    "\n",
    "\n",
    "\n",
    "# Perform k-means clustering\n",
    "kmeans = KMeans(n_clusters=11, random_state=42)\n",
    "labels = kmeans.fit_predict(standardized_data)\n",
    "\n",
    "\n",
    "# Perform PCA\n",
    "pca = PCA()\n",
    "pca.fit(standardized_data)\n",
    "\n",
    "# Create scores plot\n",
    "scores = pca.transform(standardized_data)\n",
    "scores_df = pd.DataFrame(scores, columns=['PC1', 'PC2', 'PC3', 'PC4', 'PC5', 'PC6', 'PC7', 'PC8', 'PC9'])\n",
    "scores_df['Cluster'] = labels.astype(str)\n",
    "scores_fig = px.scatter(scores_df, x='PC1', y='PC2', color='Cluster')\n",
    "\n",
    "# Create loadings plot\n",
    "loadings = pca.components_.T\n",
    "loadings_df = pd.DataFrame(loadings, columns=['PC1', 'PC2', 'PC3', 'PC4', 'PC5', 'PC6', 'PC7', 'PC8', 'PC9'], index=data.columns)\n",
    "loadings_fig = go.Figure(data=[go.Bar(x=loadings_df.index, y=loadings_df['PC1'])])\n",
    "loadings_fig.update_layout(xaxis_tickangle=-90)\n",
    "\n",
    "# Show plots\n",
    "scores_fig.show()\n",
    "loadings_fig.show()\n",
    "\n",
    "# Count the number of samples in each cluster\n",
    "counts = pd.Series(kmeans.labels_).value_counts()\n",
    "print(counts)\n"
   ]
  },
  {
   "attachments": {},
   "cell_type": "markdown",
   "metadata": {},
   "source": [
    "# Preprocess"
   ]
  },
  {
   "cell_type": "code",
   "execution_count": 3,
   "metadata": {},
   "outputs": [
    {
     "name": "stdout",
     "output_type": "stream",
     "text": [
      "Collecting torch\n",
      "  Downloading torch-2.0.0-cp310-cp310-win_amd64.whl (172.3 MB)\n",
      "     -------------------------------------- 172.3/172.3 MB 6.0 MB/s eta 0:00:00\n",
      "Collecting typing-extensions\n",
      "  Downloading typing_extensions-4.5.0-py3-none-any.whl (27 kB)\n",
      "Collecting sympy\n",
      "  Downloading sympy-1.11.1-py3-none-any.whl (6.5 MB)\n",
      "     ---------------------------------------- 6.5/6.5 MB 15.9 MB/s eta 0:00:00\n",
      "Collecting jinja2\n",
      "  Downloading Jinja2-3.1.2-py3-none-any.whl (133 kB)\n",
      "     -------------------------------------- 133.1/133.1 kB 8.2 MB/s eta 0:00:00\n",
      "Collecting filelock\n",
      "  Downloading filelock-3.10.5-py3-none-any.whl (10 kB)\n",
      "Collecting networkx\n",
      "  Downloading networkx-3.0-py3-none-any.whl (2.0 MB)\n",
      "     ---------------------------------------- 2.0/2.0 MB 16.3 MB/s eta 0:00:00\n",
      "Collecting MarkupSafe>=2.0\n",
      "  Downloading MarkupSafe-2.1.2-cp310-cp310-win_amd64.whl (16 kB)\n",
      "Collecting mpmath>=0.19\n",
      "  Downloading mpmath-1.3.0-py3-none-any.whl (536 kB)\n",
      "     ------------------------------------- 536.2/536.2 kB 11.2 MB/s eta 0:00:00\n",
      "Installing collected packages: mpmath, typing-extensions, sympy, networkx, MarkupSafe, filelock, jinja2, torch\n",
      "Successfully installed MarkupSafe-2.1.2 filelock-3.10.5 jinja2-3.1.2 mpmath-1.3.0 networkx-3.0 sympy-1.11.1 torch-2.0.0 typing-extensions-4.5.0\n"
     ]
    }
   ],
   "source": [
    "!pip install torch"
   ]
  },
  {
   "cell_type": "code",
   "execution_count": 3,
   "metadata": {},
   "outputs": [],
   "source": [
    "import torch\n",
    "\n",
    "# torch.cuda.empty_cache()\n",
    "\n",
    "\n",
    "\n",
    "# np.save(\"datasets/corrected_chemcam_spectra.npy\", corrected_spectra_ech)\n",
    "# np.save(\"datasets/ech_grid_reduced.npy\", ech_grid)\n",
    "# np.save(\"datasets/labels.npy\", labels)\n",
    "\n",
    "import numpy as np\n",
    "\n",
    "corrected_spectra_ech = np.load(\"datasets/corrected_chemcam_spectra.npy\")\n",
    "ech_grid = np.load(\"datasets/ech_grid_reduced.npy\")\n",
    "labels = np.load(\"datasets/labels.npy\")"
   ]
  },
  {
   "cell_type": "markdown",
   "metadata": {},
   "source": []
  },
  {
   "cell_type": "code",
   "execution_count": 4,
   "metadata": {},
   "outputs": [],
   "source": [
    "from sklearn.model_selection import train_test_split\n",
    "X_train, X_test, y_train, y_test = train_test_split(corrected_spectra_ech, labels, test_size=0.2, random_state=42, stratify=labels)\n",
    "# del X, y, samples"
   ]
  },
  {
   "cell_type": "code",
   "execution_count": 5,
   "metadata": {},
   "outputs": [],
   "source": [
    "from sklearn.preprocessing import Normalizer\n",
    "from sklearn.preprocessing import MinMaxScaler\n",
    "\n",
    "if True:\n",
    "  scaler =  Normalizer(norm = 'max')\n",
    "  X_train = scaler.fit_transform(X_train)\n",
    "  X_test = scaler.fit_transform(X_test)\n",
    "#"
   ]
  },
  {
   "cell_type": "code",
   "execution_count": 6,
   "metadata": {},
   "outputs": [
    {
     "name": "stdout",
     "output_type": "stream",
     "text": [
      "(1506, 30735)\n",
      "(377, 30735)\n",
      "(1506,)\n",
      "(377,)\n"
     ]
    }
   ],
   "source": [
    "print(X_train.shape)\n",
    "print(X_test.shape)\n",
    "print(y_train.shape)\n",
    "print(y_test.shape)"
   ]
  },
  {
   "attachments": {},
   "cell_type": "markdown",
   "metadata": {},
   "source": [
    "# Train network"
   ]
  },
  {
   "cell_type": "code",
   "execution_count": 7,
   "metadata": {},
   "outputs": [],
   "source": [
    "import torch\n",
    "from torch.utils.data import DataLoader\n",
    "from src.siamese_net import prepare_triplets, prepare_balanced_triplets\n",
    "\n",
    "X_train = torch.from_numpy(X_train).unsqueeze(1).float() # Add extra dimension for channels\n",
    "X_test = torch.from_numpy(X_test).unsqueeze(1).float() # Add extra dimension for channels\n",
    "y_train = torch.from_numpy(np.array(y_train)).long()\n",
    "y_test = torch.from_numpy(np.array(y_test)).long()\n",
    "\n",
    "#X_test_shifted = torch.from_numpy(X_test_shifted).unsqueeze(1).float() # Add extra dimension for channels\n",
    "\n",
    "device = torch.device(\"cuda\" if torch.cuda.is_available() else \"cpu\")\n",
    "\n",
    "X_train.to(device)\n",
    "X_test.to(device) \n",
    "y_train.to(device)\n",
    "y_test.to(device)\n",
    "\n",
    "# Prepare triplets for the training, validation, and test sets\n",
    "train_triplets = prepare_triplets(X_train, y_train)\n",
    "val_triplets = prepare_triplets(X_test, y_test)\n",
    "test_triplets = prepare_triplets(X_test, y_test)\n",
    "\n",
    "\n",
    "\n",
    "# Create PyTorch DataLoader objects for the training, validation, and test sets\n",
    "batch_size = 32\n",
    "train_loader = DataLoader(train_triplets, batch_size=batch_size, shuffle=True)\n",
    "val_loader = DataLoader(val_triplets, batch_size=batch_size, shuffle=True)\n",
    "test_loader = DataLoader(test_triplets, batch_size=batch_size, shuffle=False)"
   ]
  },
  {
   "cell_type": "code",
   "execution_count": 23,
   "metadata": {},
   "outputs": [
    {
     "name": "stdout",
     "output_type": "stream",
     "text": [
      "The autoreload extension is already loaded. To reload it, use:\n",
      "  %reload_ext autoreload\n"
     ]
    }
   ],
   "source": [
    "%load_ext autoreload\n",
    "%reload_ext autoreload\n",
    "%autoreload 2\n",
    "\n",
    "# import funcs\n",
    "# import importlib\n",
    "# importlib.reload(funcs)\n",
    "# from funcs import *"
   ]
  },
  {
   "cell_type": "code",
   "execution_count": 24,
   "metadata": {},
   "outputs": [
    {
     "name": "stdout",
     "output_type": "stream",
     "text": [
      "SiameseNetwork(\n",
      "  (conv_layers): ModuleList(\n",
      "    (0): Conv1d(1, 50, kernel_size=(50,), stride=(2,), padding=(1,))\n",
      "    (1): Conv1d(50, 50, kernel_size=(10,), stride=(2,), padding=(1,))\n",
      "  )\n",
      "  (relu_layers): ModuleList(\n",
      "    (0-1): 2 x ReLU()\n",
      "  )\n",
      "  (fc_layers): ModuleList(\n",
      "    (0): Linear(in_features=383450, out_features=256, bias=True)\n",
      "    (1): Linear(in_features=256, out_features=10, bias=True)\n",
      "  )\n",
      "  (relu_fc_layers): ModuleList(\n",
      "    (0): ReLU()\n",
      "  )\n",
      ")\n"
     ]
    }
   ],
   "source": [
    "# import wandb\n",
    "from src.siamese_net import SiameseNetwork\n",
    "import torch.optim as optim\n",
    "import torch.nn as nn\n",
    "\n",
    "# Initialize a new WandB run\n",
    "# wandb.init(project='siamese_net_chemcam', entity='jakubv')\n",
    "\n",
    "margin = 1.0\n",
    "\n",
    "# Define the number of epochs and batch size\n",
    "num_epochs = 1\n",
    "input_size = X_train.shape[2]\n",
    "output_size = 10\n",
    "channels=50\n",
    "kernel_sizes=[50, 10]\n",
    "strides=[2, 2]\n",
    "paddings=[1, 1]\n",
    "hidden_sizes=[256]\n",
    "learning_rate = 1e-4\n",
    "\n",
    "\n",
    "# Instantiate the Siamese network, optimizer, and loss function\n",
    "#net = SiameseNetwork()\n",
    "net = SiameseNetwork(input_size=input_size, output_size=output_size, channels=channels, kernel_sizes=kernel_sizes, strides=strides, paddings=paddings, hidden_sizes=hidden_sizes)\n",
    "optimizer = optim.Adam(net.parameters(), lr = learning_rate)\n",
    "criterion = nn.TripletMarginLoss(margin=margin)\n",
    "\n",
    "\n",
    "net.to(device)\n",
    "print(net)\n",
    "\n",
    "# wandb.watch(net)\n",
    "\n",
    "# # Train the network\n",
    "# for epoch in range(num_epochs):\n",
    "#     # Set the network to training mode\n",
    "#     net.train()\n",
    "\n",
    "#     # Initialize running loss and number of batches for the training dataset\n",
    "#     running_loss_train = 0.0\n",
    "#     num_batches_train = 0\n",
    "\n",
    "#     # Iterate over the training data loader\n",
    "#     for i, data in enumerate(train_loader, 0):\n",
    "#         # Get the inputs and labels for the current batch\n",
    "#         inputs = [input.to(device) for input in data]\n",
    "        \n",
    "#         input_a = inputs[0]\n",
    "#         input_p = inputs[1]\n",
    "#         input_n = inputs[2]\n",
    "        \n",
    "#         # Compute the embeddings for the current batch\n",
    "#         outputs = net(input_a, input_p, input_n)\n",
    "\n",
    "\n",
    "#         # Split the embeddings into anchor, positive, and negative examples\n",
    "#         anchor = outputs[0]\n",
    "#         positive = outputs[1]\n",
    "#         negative = outputs[2]\n",
    "        \n",
    "#         # Compute the triplet loss for the current batch\n",
    "#         loss_train = criterion(anchor, positive, negative)\n",
    "\n",
    "#         # Backpropagate the loss and update the network parameters\n",
    "#         loss_train.backward()\n",
    "#         optimizer.step()\n",
    "#         optimizer.zero_grad()\n",
    "\n",
    "#         # Update the running loss and number of batches for the training dataset\n",
    "#         running_loss_train += loss_train.item()\n",
    "#         num_batches_train += 1\n",
    "\n",
    "#     # Compute the average loss for the training dataset\n",
    "#     epoch_loss_train = running_loss_train / num_batches_train\n",
    "\n",
    "#     # Set the network to evaluation mode\n",
    "#     net.eval()\n",
    "\n",
    "#     # Initialize running loss and number of batches for the validation dataset\n",
    "#     running_loss_val = 0.0\n",
    "#     num_batches_val = 0\n",
    "\n",
    "#     # Iterate over the validation data loader\n",
    "#     for i, data in enumerate(val_loader, 0):\n",
    "#         # Get the inputs and labels for the current batch\n",
    "        \n",
    "#         inputs_val = [input.to(device) for input in data]\n",
    "        \n",
    "#         input_a = inputs_val[0]\n",
    "#         input_p = inputs_val[1]\n",
    "#         input_n = inputs_val[2]\n",
    "#         # Compute the embeddings for the current batch\n",
    "#         outputs = net(input_a, input_p, input_n)\n",
    "\n",
    "#         # Split the embeddings into anchor, positive, and negative examples\n",
    "#         anchor = outputs[0]\n",
    "#         positive = outputs[1]\n",
    "#         negative = outputs[2]\n",
    "        \n",
    "#         # Compute the triplet loss for the current batch\n",
    "#         loss_val = criterion(anchor, positive, negative)\n",
    "\n",
    "#         # Update the running loss and number of batches for the validation dataset\n",
    "#         running_loss_val += loss_val.item()\n",
    "#         num_batches_val += 1\n",
    "\n",
    "#     # Compute the average loss for the validation dataset\n",
    "#     epoch_loss_val = running_loss_val / num_batches_val\n",
    "\n",
    "#     # Log the loss values to your WandB run\n",
    "#     # wandb.log({\n",
    "#     #     \"epoch\": epoch+1,\n",
    "#     #     \"training_loss\": epoch_loss_train, \n",
    "#     #     \"validation_loss\": epoch_loss_val\n",
    "#     #     })\n",
    "\n",
    "#     # Print the epoch number, training loss, and validation loss\n",
    "#     print('Epoch [{}/{}], Training Loss: {:.4f}, Validation Loss {:.4f}'.format(epoch+1, num_epochs, epoch_loss_train, epoch_loss_val))\n",
    "\n",
    "\n",
    "\n",
    "\n",
    "# x = torch.randn(1, 1, 30735)\n",
    "# x = x.to(device)\n",
    "\n",
    "\n",
    "# #torch.onnx.export(net, (x,x,x), \"onnx-ized.onnx\", export_params=True)\n",
    "# # wandb.save('onnx-ized.onnx')\n",
    "# # End the WandB run\n",
    "# # wandb.finish()\n",
    "\n"
   ]
  },
  {
   "cell_type": "code",
   "execution_count": 25,
   "metadata": {},
   "outputs": [
    {
     "name": "stdout",
     "output_type": "stream",
     "text": [
      "============== Diagnostic Run torch.onnx.export version 2.0.0+cpu ==============\n",
      "verbose: False, log level: Level.ERROR\n",
      "======================= 0 NONE 0 NOTE 0 WARNING 0 ERROR ========================\n",
      "\n",
      "Serving 'model.onnx' at http://localhost:8080\n"
     ]
    },
    {
     "data": {
      "text/plain": [
       "('localhost', 8080)"
      ]
     },
     "execution_count": 25,
     "metadata": {},
     "output_type": "execute_result"
    }
   ],
   "source": [
    "# !pip install netron\n",
    "# !pip install onnx\n",
    "\n",
    "import netron\n",
    "\n",
    "input_dummy = torch.randn(1, 1, 30735)\n",
    "input_dummy = input_dummy.to(device)\n",
    "\n",
    "\n",
    "torch.onnx.export(net, (input_dummy,input_dummy,input_dummy), \"model.onnx\", export_params=False)\n",
    "\n",
    "\n",
    "input_dummy = torch.randn(1, 1, 30735)\n",
    "input_dummy = input_dummy.to(device)\n",
    "\n",
    "netron.start(\"model.onnx\")"
   ]
  },
  {
   "cell_type": "code",
   "execution_count": 26,
   "metadata": {},
   "outputs": [
    {
     "data": {
      "text/plain": [
       "==========================================================================================\n",
       "Layer (type:depth-idx)                   Output Shape              Param #\n",
       "==========================================================================================\n",
       "SiameseNetwork                           [1, 10]                   --\n",
       "├─ModuleList: 1-17                       --                        (recursive)\n",
       "│    └─Conv1d: 2-1                       [1, 50, 15344]            2,550\n",
       "├─ModuleList: 1-18                       --                        --\n",
       "│    └─ReLU: 2-2                         [1, 50, 15344]            --\n",
       "├─ModuleList: 1-17                       --                        (recursive)\n",
       "│    └─Conv1d: 2-3                       [1, 50, 7669]             25,050\n",
       "├─ModuleList: 1-18                       --                        --\n",
       "│    └─ReLU: 2-4                         [1, 50, 7669]             --\n",
       "├─ModuleList: 1-21                       --                        (recursive)\n",
       "│    └─Linear: 2-5                       [1, 256]                  98,163,456\n",
       "├─ModuleList: 1-20                       --                        --\n",
       "│    └─ReLU: 2-6                         [1, 256]                  --\n",
       "├─ModuleList: 1-21                       --                        (recursive)\n",
       "│    └─Linear: 2-7                       [1, 10]                   2,570\n",
       "├─ModuleList: 1-17                       --                        (recursive)\n",
       "│    └─Conv1d: 2-8                       [1, 50, 15344]            (recursive)\n",
       "├─ModuleList: 1-18                       --                        --\n",
       "│    └─ReLU: 2-9                         [1, 50, 15344]            --\n",
       "├─ModuleList: 1-17                       --                        (recursive)\n",
       "│    └─Conv1d: 2-10                      [1, 50, 7669]             (recursive)\n",
       "├─ModuleList: 1-18                       --                        --\n",
       "│    └─ReLU: 2-11                        [1, 50, 7669]             --\n",
       "├─ModuleList: 1-21                       --                        (recursive)\n",
       "│    └─Linear: 2-12                      [1, 256]                  (recursive)\n",
       "├─ModuleList: 1-20                       --                        --\n",
       "│    └─ReLU: 2-13                        [1, 256]                  --\n",
       "├─ModuleList: 1-21                       --                        (recursive)\n",
       "│    └─Linear: 2-14                      [1, 10]                   (recursive)\n",
       "├─ModuleList: 1-17                       --                        (recursive)\n",
       "│    └─Conv1d: 2-15                      [1, 50, 15344]            (recursive)\n",
       "├─ModuleList: 1-18                       --                        --\n",
       "│    └─ReLU: 2-16                        [1, 50, 15344]            --\n",
       "├─ModuleList: 1-17                       --                        (recursive)\n",
       "│    └─Conv1d: 2-17                      [1, 50, 7669]             (recursive)\n",
       "├─ModuleList: 1-18                       --                        --\n",
       "│    └─ReLU: 2-18                        [1, 50, 7669]             --\n",
       "├─ModuleList: 1-21                       --                        (recursive)\n",
       "│    └─Linear: 2-19                      [1, 256]                  (recursive)\n",
       "├─ModuleList: 1-20                       --                        --\n",
       "│    └─ReLU: 2-20                        [1, 256]                  --\n",
       "├─ModuleList: 1-21                       --                        (recursive)\n",
       "│    └─Linear: 2-21                      [1, 10]                   (recursive)\n",
       "==========================================================================================\n",
       "Total params: 98,193,626\n",
       "Trainable params: 98,193,626\n",
       "Non-trainable params: 0\n",
       "Total mult-adds (M): 988.21\n",
       "==========================================================================================\n",
       "Input size (MB): 0.37\n",
       "Forward/backward pass size (MB): 27.62\n",
       "Params size (MB): 392.77\n",
       "Estimated Total Size (MB): 420.77\n",
       "=========================================================================================="
      ]
     },
     "execution_count": 26,
     "metadata": {},
     "output_type": "execute_result"
    }
   ],
   "source": [
    "#!pip install torchinfo\n",
    "\n",
    "import torchinfo\n",
    "\n",
    "torchinfo.summary(net, [(1, 1, 30735), (1, 1, 30735), (1, 1, 30735)])"
   ]
  },
  {
   "cell_type": "code",
   "execution_count": 12,
   "metadata": {},
   "outputs": [
    {
     "name": "stdout",
     "output_type": "stream",
     "text": [
      "30735\n",
      "256\n",
      "256\n",
      "128\n",
      "128\n",
      "64\n"
     ]
    },
    {
     "data": {
      "text/plain": [
       "64"
      ]
     },
     "execution_count": 12,
     "metadata": {},
     "output_type": "execute_result"
    }
   ],
   "source": [
    "hidden_sizes = [256,128, 64]\n",
    "for i in range(len(hidden_sizes)):\n",
    "    if i == 0:    \n",
    "        print(input_size)\n",
    "        print(hidden_sizes[i])\n",
    "    else:\n",
    "        print(hidden_sizes[i-1])\n",
    "        print(hidden_sizes[i])\n",
    "hidden_sizes[-1]\n"
   ]
  },
  {
   "cell_type": "code",
   "execution_count": 13,
   "metadata": {},
   "outputs": [],
   "source": [
    "# from src.siamese_net import SiameseNetwork\n",
    "# import torch.optim as optim\n",
    "# import torch.nn as nn\n",
    "\n",
    "# margin = 1.0\n",
    "\n",
    "# # Define the number of epochs and batch size\n",
    "# num_epochs = 10\n",
    "# input_size = X_train.shape[2]\n",
    "# output_size = 10\n",
    "# channels=50\n",
    "# kernel_sizes=[50, 10]\n",
    "# strides=[2, 2]\n",
    "# paddings=[1, 1]\n",
    "# hidden_sizes=[256, 128]\n",
    "# learning_rate = 1e-4\n",
    "\n",
    "\n",
    "# # Instantiate the Siamese network, optimizer, and loss function\n",
    "# #net = SiameseNetwork()\n",
    "# net = SiameseNetwork(input_size=input_size, output_size=output_size, channels=channels, kernel_sizes=kernel_sizes, strides=strides, paddings=paddings, hidden_sizes=hidden_sizes)\n",
    "# optimizer = optim.Adam(net.parameters(), lr = learning_rate)\n",
    "# criterion = nn.TripletMarginLoss(margin=margin)\n",
    "\n",
    "\n",
    "# net.to(device)\n",
    "\n",
    "# # Train the network\n",
    "# for epoch in range(num_epochs):\n",
    "#     # Set the network to training mode\n",
    "#     net.train()\n",
    "\n",
    "#     # Initialize running loss and number of batches for the training dataset\n",
    "#     running_loss_train = 0.0\n",
    "#     num_batches_train = 0\n",
    "\n",
    "#     # Iterate over the training data loader\n",
    "#     for i, data in enumerate(train_loader, 0):\n",
    "#         # Get the inputs and labels for the current batch\n",
    "#         inputs = [input.to(device) for input in data]\n",
    "        \n",
    "#         input_a = inputs[0]\n",
    "#         input_p = inputs[1]\n",
    "#         input_n = inputs[2]\n",
    "        \n",
    "#         # Compute the embeddings for the current batch\n",
    "#         outputs = net(input_a, input_p, input_n)\n",
    "\n",
    "\n",
    "#         # Split the embeddings into anchor, positive, and negative examples\n",
    "#         anchor = outputs[0]\n",
    "#         positive = outputs[1]\n",
    "#         negative = outputs[2]\n",
    "        \n",
    "#         # Compute the triplet loss for the current batch\n",
    "#         loss_train = criterion(anchor, positive, negative)\n",
    "\n",
    "#         # Backpropagate the loss and update the network parameters\n",
    "#         loss_train.backward()\n",
    "#         optimizer.step()\n",
    "#         optimizer.zero_grad()\n",
    "\n",
    "#         # Update the running loss and number of batches for the training dataset\n",
    "#         running_loss_train += loss_train.item()\n",
    "#         num_batches_train += 1\n",
    "\n",
    "#     # Compute the average loss for the training dataset\n",
    "#     epoch_loss_train = running_loss_train / num_batches_train\n",
    "\n",
    "#     # Set the network to evaluation mode\n",
    "#     net.eval()\n",
    "\n",
    "#     # Initialize running loss and number of batches for the validation dataset\n",
    "#     running_loss_val = 0.0\n",
    "#     num_batches_val = 0\n",
    "\n",
    "#     # Iterate over the validation data loader\n",
    "#     for i, data in enumerate(val_loader, 0):\n",
    "#         # Get the inputs and labels for the current batch\n",
    "        \n",
    "#         inputs_val = [input.to(device) for input in data]\n",
    "        \n",
    "#         input_a = inputs_val[0]\n",
    "#         input_p = inputs_val[1]\n",
    "#         input_n = inputs_val[2]\n",
    "#         # Compute the embeddings for the current batch\n",
    "#         outputs = net(input_a, input_p, input_n)\n",
    "\n",
    "#         # Split the embeddings into anchor, positive, and negative examples\n",
    "#         anchor = outputs[0]\n",
    "#         positive = outputs[1]\n",
    "#         negative = outputs[2]\n",
    "        \n",
    "#         # Compute the triplet loss for the current batch\n",
    "#         loss_val = criterion(anchor, positive, negative)\n",
    "\n",
    "#         # Update the running loss and number of batches for the validation dataset\n",
    "#         running_loss_val += loss_val.item()\n",
    "#         num_batches_val += 1\n",
    "\n",
    "#     # Compute the average loss for the validation dataset\n",
    "#     epoch_loss_val = running_loss_val / num_batches_val\n",
    "\n",
    "#     # Print the epoch number, training loss, and validation loss\n",
    "#     print('Epoch [{}/{}], Training Loss: {:.4f}, Validation Loss {:.4f}'.format(epoch+1, num_epochs, epoch_loss_train, epoch_loss_val))\n"
   ]
  },
  {
   "cell_type": "code",
   "execution_count": 14,
   "metadata": {},
   "outputs": [],
   "source": [
    "# # #!pip3 install --pre torch torchvision torchaudio --index-url https://download.pytorch.org/whl/nightly/cu117\n",
    "\n",
    "\n",
    "\n",
    "# import wandb\n",
    "\n",
    "# wandb.login()\n",
    "\n",
    "\n",
    "\n",
    "# config = dict(\n",
    "#     learning_rate = learning_rate,\n",
    "#     epochs = num_epochs,\n",
    "#     classes = output_size,\n",
    "#     kernels = kernel_sizes,\n",
    "#     hidden_layers = hidden_sizes,\n",
    "#     batch = batch_size,\n",
    "#     dataset = \"ChemCam\",\n",
    "#     architecture = \"Siamese CNN\")\n",
    "\n",
    "\n",
    "# def model_pipeline(hyperparameters):\n",
    "\n",
    "#     # tell wandb to get started\n",
    "#     with wandb.init(project=\"pytorch-demo\", config=hyperparameters):\n",
    "#       # access all HPs through wandb.config, so logging matches execution!\n",
    "#       config = wandb.config\n",
    "\n",
    "#       # make the model, data, and optimization problem\n",
    "#       model, train_loader, test_loader, criterion, optimizer = make(config)\n",
    "#       print(model)\n",
    "\n",
    "#       # and use them to train the model\n",
    "#       train(model, train_loader, criterion, optimizer, config)\n",
    "\n",
    "#       # and test its final performance\n",
    "#       test(model, test_loader)\n",
    "\n",
    "#     return model"
   ]
  }
 ],
 "metadata": {
  "kernelspec": {
   "display_name": "base",
   "language": "python",
   "name": "python3"
  },
  "language_info": {
   "codemirror_mode": {
    "name": "ipython",
    "version": 3
   },
   "file_extension": ".py",
   "mimetype": "text/x-python",
   "name": "python",
   "nbconvert_exporter": "python",
   "pygments_lexer": "ipython3",
   "version": "3.10.8"
  },
  "orig_nbformat": 4,
  "vscode": {
   "interpreter": {
    "hash": "ad2bdc8ecc057115af97d19610ffacc2b4e99fae6737bb82f5d7fb13d2f2c186"
   }
  }
 },
 "nbformat": 4,
 "nbformat_minor": 2
}
